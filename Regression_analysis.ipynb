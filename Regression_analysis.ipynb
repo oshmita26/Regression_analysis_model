{
  "nbformat": 4,
  "nbformat_minor": 0,
  "metadata": {
    "colab": {
      "provenance": [],
      "include_colab_link": true
    },
    "kernelspec": {
      "name": "python3",
      "display_name": "Python 3"
    },
    "language_info": {
      "name": "python"
    }
  },
  "cells": [
    {
      "cell_type": "markdown",
      "metadata": {
        "id": "view-in-github",
        "colab_type": "text"
      },
      "source": [
        "<a href=\"https://colab.research.google.com/github/oshmita26/Regression_analysis_model/blob/main/Regression_analysis.ipynb\" target=\"_parent\"><img src=\"https://colab.research.google.com/assets/colab-badge.svg\" alt=\"Open In Colab\"/></a>"
      ]
    },
    {
      "cell_type": "code",
      "execution_count": 1,
      "metadata": {
        "colab": {
          "base_uri": "https://localhost:8080/"
        },
        "id": "RUdMWwuUr0Nn",
        "outputId": "de5574b6-fa67-41e1-c454-46b20b58eda7"
      },
      "outputs": [
        {
          "output_type": "stream",
          "name": "stdout",
          "text": [
            "\n"
          ]
        }
      ],
      "source": [
        "print()"
      ]
    },
    {
      "cell_type": "code",
      "source": [
        "from google.colab import drive\n",
        "drive.mount('/content/drive')"
      ],
      "metadata": {
        "colab": {
          "base_uri": "https://localhost:8080/"
        },
        "id": "x9bxdI-Kr4TH",
        "outputId": "b9277aeb-4706-4aec-c416-bd27a4f553cd"
      },
      "execution_count": 2,
      "outputs": [
        {
          "output_type": "stream",
          "name": "stdout",
          "text": [
            "Mounted at /content/drive\n"
          ]
        }
      ]
    },
    {
      "cell_type": "code",
      "source": [
        "import numpy as np\n",
        "import pandas as pd\n",
        "import matplotlib.pyplot as plt\n",
        "import seaborn as sns"
      ],
      "metadata": {
        "id": "8wYx0QVor--K"
      },
      "execution_count": 3,
      "outputs": []
    },
    {
      "cell_type": "code",
      "source": [
        "!ls"
      ],
      "metadata": {
        "colab": {
          "base_uri": "https://localhost:8080/"
        },
        "id": "0UYQLE5wR_3V",
        "outputId": "808d0a48-9c3b-4d06-fbe7-0282cb5483d1"
      },
      "execution_count": 4,
      "outputs": [
        {
          "output_type": "stream",
          "name": "stdout",
          "text": [
            "drive  sample_data\n"
          ]
        }
      ]
    },
    {
      "cell_type": "code",
      "source": [
        "df = pd.read_csv(\"/content/drive/MyDrive/Module2_RegressionData.csv\")\n",
        "df.head()"
      ],
      "metadata": {
        "id": "6_QilqzGsWxR",
        "colab": {
          "base_uri": "https://localhost:8080/",
          "height": 206
        },
        "outputId": "4c545413-ceea-4049-e0d7-e50ca0928672"
      },
      "execution_count": 5,
      "outputs": [
        {
          "output_type": "execute_result",
          "data": {
            "text/plain": [
              "      X1        X2        X3 X4  X5  X6   X7        X8        X9        X10  \\\n",
              "0  10.01 -0.360122 -0.645366  B  27   3  0.0 -0.805854 -3.640244  -0.358659   \n",
              "1  10.19 -0.380122 -0.465366  B  27   5  0.0 -0.465854 -2.930244   2.321341   \n",
              "2  10.34 -0.440122 -0.315366  B  27   7  0.0 -0.155854 -2.320244   9.591341   \n",
              "3  10.25 -0.430122 -0.405366  B  27   8  0.0  0.034146 -1.960244  10.671341   \n",
              "4  10.17 -0.390122 -0.485366  B  27   9  0.0  0.244146 -1.700244   0.111341   \n",
              "\n",
              "        X11       X12       X13       X14          Y  \n",
              "0 -7.809512 -0.050976  0.215642  0.009203  -7.009741  \n",
              "1 -4.469512 -0.050976  0.215299  0.008860   8.890099  \n",
              "2 -0.609512 -0.050976  0.214566  0.008127 -12.328341  \n",
              "3  0.940488 -0.040976  0.214130  0.007691  -5.528821  \n",
              "4 -1.089512 -0.040976  0.213691  0.007252  -9.550351  "
            ],
            "text/html": [
              "\n",
              "  <div id=\"df-ed233c39-4c90-4e1b-9222-7f7ca5d1e6ad\">\n",
              "    <div class=\"colab-df-container\">\n",
              "      <div>\n",
              "<style scoped>\n",
              "    .dataframe tbody tr th:only-of-type {\n",
              "        vertical-align: middle;\n",
              "    }\n",
              "\n",
              "    .dataframe tbody tr th {\n",
              "        vertical-align: top;\n",
              "    }\n",
              "\n",
              "    .dataframe thead th {\n",
              "        text-align: right;\n",
              "    }\n",
              "</style>\n",
              "<table border=\"1\" class=\"dataframe\">\n",
              "  <thead>\n",
              "    <tr style=\"text-align: right;\">\n",
              "      <th></th>\n",
              "      <th>X1</th>\n",
              "      <th>X2</th>\n",
              "      <th>X3</th>\n",
              "      <th>X4</th>\n",
              "      <th>X5</th>\n",
              "      <th>X6</th>\n",
              "      <th>X7</th>\n",
              "      <th>X8</th>\n",
              "      <th>X9</th>\n",
              "      <th>X10</th>\n",
              "      <th>X11</th>\n",
              "      <th>X12</th>\n",
              "      <th>X13</th>\n",
              "      <th>X14</th>\n",
              "      <th>Y</th>\n",
              "    </tr>\n",
              "  </thead>\n",
              "  <tbody>\n",
              "    <tr>\n",
              "      <th>0</th>\n",
              "      <td>10.01</td>\n",
              "      <td>-0.360122</td>\n",
              "      <td>-0.645366</td>\n",
              "      <td>B</td>\n",
              "      <td>27</td>\n",
              "      <td>3</td>\n",
              "      <td>0.0</td>\n",
              "      <td>-0.805854</td>\n",
              "      <td>-3.640244</td>\n",
              "      <td>-0.358659</td>\n",
              "      <td>-7.809512</td>\n",
              "      <td>-0.050976</td>\n",
              "      <td>0.215642</td>\n",
              "      <td>0.009203</td>\n",
              "      <td>-7.009741</td>\n",
              "    </tr>\n",
              "    <tr>\n",
              "      <th>1</th>\n",
              "      <td>10.19</td>\n",
              "      <td>-0.380122</td>\n",
              "      <td>-0.465366</td>\n",
              "      <td>B</td>\n",
              "      <td>27</td>\n",
              "      <td>5</td>\n",
              "      <td>0.0</td>\n",
              "      <td>-0.465854</td>\n",
              "      <td>-2.930244</td>\n",
              "      <td>2.321341</td>\n",
              "      <td>-4.469512</td>\n",
              "      <td>-0.050976</td>\n",
              "      <td>0.215299</td>\n",
              "      <td>0.008860</td>\n",
              "      <td>8.890099</td>\n",
              "    </tr>\n",
              "    <tr>\n",
              "      <th>2</th>\n",
              "      <td>10.34</td>\n",
              "      <td>-0.440122</td>\n",
              "      <td>-0.315366</td>\n",
              "      <td>B</td>\n",
              "      <td>27</td>\n",
              "      <td>7</td>\n",
              "      <td>0.0</td>\n",
              "      <td>-0.155854</td>\n",
              "      <td>-2.320244</td>\n",
              "      <td>9.591341</td>\n",
              "      <td>-0.609512</td>\n",
              "      <td>-0.050976</td>\n",
              "      <td>0.214566</td>\n",
              "      <td>0.008127</td>\n",
              "      <td>-12.328341</td>\n",
              "    </tr>\n",
              "    <tr>\n",
              "      <th>3</th>\n",
              "      <td>10.25</td>\n",
              "      <td>-0.430122</td>\n",
              "      <td>-0.405366</td>\n",
              "      <td>B</td>\n",
              "      <td>27</td>\n",
              "      <td>8</td>\n",
              "      <td>0.0</td>\n",
              "      <td>0.034146</td>\n",
              "      <td>-1.960244</td>\n",
              "      <td>10.671341</td>\n",
              "      <td>0.940488</td>\n",
              "      <td>-0.040976</td>\n",
              "      <td>0.214130</td>\n",
              "      <td>0.007691</td>\n",
              "      <td>-5.528821</td>\n",
              "    </tr>\n",
              "    <tr>\n",
              "      <th>4</th>\n",
              "      <td>10.17</td>\n",
              "      <td>-0.390122</td>\n",
              "      <td>-0.485366</td>\n",
              "      <td>B</td>\n",
              "      <td>27</td>\n",
              "      <td>9</td>\n",
              "      <td>0.0</td>\n",
              "      <td>0.244146</td>\n",
              "      <td>-1.700244</td>\n",
              "      <td>0.111341</td>\n",
              "      <td>-1.089512</td>\n",
              "      <td>-0.040976</td>\n",
              "      <td>0.213691</td>\n",
              "      <td>0.007252</td>\n",
              "      <td>-9.550351</td>\n",
              "    </tr>\n",
              "  </tbody>\n",
              "</table>\n",
              "</div>\n",
              "      <button class=\"colab-df-convert\" onclick=\"convertToInteractive('df-ed233c39-4c90-4e1b-9222-7f7ca5d1e6ad')\"\n",
              "              title=\"Convert this dataframe to an interactive table.\"\n",
              "              style=\"display:none;\">\n",
              "        \n",
              "  <svg xmlns=\"http://www.w3.org/2000/svg\" height=\"24px\"viewBox=\"0 0 24 24\"\n",
              "       width=\"24px\">\n",
              "    <path d=\"M0 0h24v24H0V0z\" fill=\"none\"/>\n",
              "    <path d=\"M18.56 5.44l.94 2.06.94-2.06 2.06-.94-2.06-.94-.94-2.06-.94 2.06-2.06.94zm-11 1L8.5 8.5l.94-2.06 2.06-.94-2.06-.94L8.5 2.5l-.94 2.06-2.06.94zm10 10l.94 2.06.94-2.06 2.06-.94-2.06-.94-.94-2.06-.94 2.06-2.06.94z\"/><path d=\"M17.41 7.96l-1.37-1.37c-.4-.4-.92-.59-1.43-.59-.52 0-1.04.2-1.43.59L10.3 9.45l-7.72 7.72c-.78.78-.78 2.05 0 2.83L4 21.41c.39.39.9.59 1.41.59.51 0 1.02-.2 1.41-.59l7.78-7.78 2.81-2.81c.8-.78.8-2.07 0-2.86zM5.41 20L4 18.59l7.72-7.72 1.47 1.35L5.41 20z\"/>\n",
              "  </svg>\n",
              "      </button>\n",
              "      \n",
              "  <style>\n",
              "    .colab-df-container {\n",
              "      display:flex;\n",
              "      flex-wrap:wrap;\n",
              "      gap: 12px;\n",
              "    }\n",
              "\n",
              "    .colab-df-convert {\n",
              "      background-color: #E8F0FE;\n",
              "      border: none;\n",
              "      border-radius: 50%;\n",
              "      cursor: pointer;\n",
              "      display: none;\n",
              "      fill: #1967D2;\n",
              "      height: 32px;\n",
              "      padding: 0 0 0 0;\n",
              "      width: 32px;\n",
              "    }\n",
              "\n",
              "    .colab-df-convert:hover {\n",
              "      background-color: #E2EBFA;\n",
              "      box-shadow: 0px 1px 2px rgba(60, 64, 67, 0.3), 0px 1px 3px 1px rgba(60, 64, 67, 0.15);\n",
              "      fill: #174EA6;\n",
              "    }\n",
              "\n",
              "    [theme=dark] .colab-df-convert {\n",
              "      background-color: #3B4455;\n",
              "      fill: #D2E3FC;\n",
              "    }\n",
              "\n",
              "    [theme=dark] .colab-df-convert:hover {\n",
              "      background-color: #434B5C;\n",
              "      box-shadow: 0px 1px 3px 1px rgba(0, 0, 0, 0.15);\n",
              "      filter: drop-shadow(0px 1px 2px rgba(0, 0, 0, 0.3));\n",
              "      fill: #FFFFFF;\n",
              "    }\n",
              "  </style>\n",
              "\n",
              "      <script>\n",
              "        const buttonEl =\n",
              "          document.querySelector('#df-ed233c39-4c90-4e1b-9222-7f7ca5d1e6ad button.colab-df-convert');\n",
              "        buttonEl.style.display =\n",
              "          google.colab.kernel.accessAllowed ? 'block' : 'none';\n",
              "\n",
              "        async function convertToInteractive(key) {\n",
              "          const element = document.querySelector('#df-ed233c39-4c90-4e1b-9222-7f7ca5d1e6ad');\n",
              "          const dataTable =\n",
              "            await google.colab.kernel.invokeFunction('convertToInteractive',\n",
              "                                                     [key], {});\n",
              "          if (!dataTable) return;\n",
              "\n",
              "          const docLinkHtml = 'Like what you see? Visit the ' +\n",
              "            '<a target=\"_blank\" href=https://colab.research.google.com/notebooks/data_table.ipynb>data table notebook</a>'\n",
              "            + ' to learn more about interactive tables.';\n",
              "          element.innerHTML = '';\n",
              "          dataTable['output_type'] = 'display_data';\n",
              "          await google.colab.output.renderOutput(dataTable, element);\n",
              "          const docLink = document.createElement('div');\n",
              "          docLink.innerHTML = docLinkHtml;\n",
              "          element.appendChild(docLink);\n",
              "        }\n",
              "      </script>\n",
              "    </div>\n",
              "  </div>\n",
              "  "
            ]
          },
          "metadata": {},
          "execution_count": 5
        }
      ]
    },
    {
      "cell_type": "markdown",
      "source": [
        "### Encoding the categorical variables here"
      ],
      "metadata": {
        "id": "Zlha6meV9X6O"
      }
    },
    {
      "cell_type": "code",
      "source": [
        "df['X4'].value_counts()"
      ],
      "metadata": {
        "colab": {
          "base_uri": "https://localhost:8080/"
        },
        "id": "MP1N-g_B9cTI",
        "outputId": "13375fbd-8626-4b01-ae8b-53a52b7d18d5"
      },
      "execution_count": 6,
      "outputs": [
        {
          "output_type": "execute_result",
          "data": {
            "text/plain": [
              "B    74005\n",
              "A    70495\n",
              "D    63582\n",
              "C    53315\n",
              "J    47451\n",
              "K    45391\n",
              "P    43369\n",
              "Q    40520\n",
              "R    34677\n",
              "S    33306\n",
              "G    18960\n",
              "E    18523\n",
              "F    17149\n",
              "H    16686\n",
              "Name: X4, dtype: int64"
            ]
          },
          "metadata": {},
          "execution_count": 6
        }
      ]
    },
    {
      "cell_type": "code",
      "source": [
        "## Find and replace\n",
        "cleanup_nums = {\"X4\": {\"A\": 0, \"B\": 1, \"C\": 2, \"D\": 3,\n",
        "                                  \"E\": 4, \"F\": 5, \"G\":6, \"H\": 7, \"J\": 8, \"K\": 9, \"P\": 10,\"Q\": 11, \"R\": 12, \"S\":13 }}\n",
        "obj_df = df.replace(cleanup_nums)\n",
        "obj_df.head()"
      ],
      "metadata": {
        "colab": {
          "base_uri": "https://localhost:8080/",
          "height": 206
        },
        "id": "_0ADNpZu9qhB",
        "outputId": "b7ac87fd-ff47-4db6-d6c0-c9974c4f47c8"
      },
      "execution_count": 7,
      "outputs": [
        {
          "output_type": "execute_result",
          "data": {
            "text/plain": [
              "      X1        X2        X3  X4  X5  X6   X7        X8        X9        X10  \\\n",
              "0  10.01 -0.360122 -0.645366   1  27   3  0.0 -0.805854 -3.640244  -0.358659   \n",
              "1  10.19 -0.380122 -0.465366   1  27   5  0.0 -0.465854 -2.930244   2.321341   \n",
              "2  10.34 -0.440122 -0.315366   1  27   7  0.0 -0.155854 -2.320244   9.591341   \n",
              "3  10.25 -0.430122 -0.405366   1  27   8  0.0  0.034146 -1.960244  10.671341   \n",
              "4  10.17 -0.390122 -0.485366   1  27   9  0.0  0.244146 -1.700244   0.111341   \n",
              "\n",
              "        X11       X12       X13       X14          Y  \n",
              "0 -7.809512 -0.050976  0.215642  0.009203  -7.009741  \n",
              "1 -4.469512 -0.050976  0.215299  0.008860   8.890099  \n",
              "2 -0.609512 -0.050976  0.214566  0.008127 -12.328341  \n",
              "3  0.940488 -0.040976  0.214130  0.007691  -5.528821  \n",
              "4 -1.089512 -0.040976  0.213691  0.007252  -9.550351  "
            ],
            "text/html": [
              "\n",
              "  <div id=\"df-9238e037-c460-41ee-9033-2f1a7f2d627f\">\n",
              "    <div class=\"colab-df-container\">\n",
              "      <div>\n",
              "<style scoped>\n",
              "    .dataframe tbody tr th:only-of-type {\n",
              "        vertical-align: middle;\n",
              "    }\n",
              "\n",
              "    .dataframe tbody tr th {\n",
              "        vertical-align: top;\n",
              "    }\n",
              "\n",
              "    .dataframe thead th {\n",
              "        text-align: right;\n",
              "    }\n",
              "</style>\n",
              "<table border=\"1\" class=\"dataframe\">\n",
              "  <thead>\n",
              "    <tr style=\"text-align: right;\">\n",
              "      <th></th>\n",
              "      <th>X1</th>\n",
              "      <th>X2</th>\n",
              "      <th>X3</th>\n",
              "      <th>X4</th>\n",
              "      <th>X5</th>\n",
              "      <th>X6</th>\n",
              "      <th>X7</th>\n",
              "      <th>X8</th>\n",
              "      <th>X9</th>\n",
              "      <th>X10</th>\n",
              "      <th>X11</th>\n",
              "      <th>X12</th>\n",
              "      <th>X13</th>\n",
              "      <th>X14</th>\n",
              "      <th>Y</th>\n",
              "    </tr>\n",
              "  </thead>\n",
              "  <tbody>\n",
              "    <tr>\n",
              "      <th>0</th>\n",
              "      <td>10.01</td>\n",
              "      <td>-0.360122</td>\n",
              "      <td>-0.645366</td>\n",
              "      <td>1</td>\n",
              "      <td>27</td>\n",
              "      <td>3</td>\n",
              "      <td>0.0</td>\n",
              "      <td>-0.805854</td>\n",
              "      <td>-3.640244</td>\n",
              "      <td>-0.358659</td>\n",
              "      <td>-7.809512</td>\n",
              "      <td>-0.050976</td>\n",
              "      <td>0.215642</td>\n",
              "      <td>0.009203</td>\n",
              "      <td>-7.009741</td>\n",
              "    </tr>\n",
              "    <tr>\n",
              "      <th>1</th>\n",
              "      <td>10.19</td>\n",
              "      <td>-0.380122</td>\n",
              "      <td>-0.465366</td>\n",
              "      <td>1</td>\n",
              "      <td>27</td>\n",
              "      <td>5</td>\n",
              "      <td>0.0</td>\n",
              "      <td>-0.465854</td>\n",
              "      <td>-2.930244</td>\n",
              "      <td>2.321341</td>\n",
              "      <td>-4.469512</td>\n",
              "      <td>-0.050976</td>\n",
              "      <td>0.215299</td>\n",
              "      <td>0.008860</td>\n",
              "      <td>8.890099</td>\n",
              "    </tr>\n",
              "    <tr>\n",
              "      <th>2</th>\n",
              "      <td>10.34</td>\n",
              "      <td>-0.440122</td>\n",
              "      <td>-0.315366</td>\n",
              "      <td>1</td>\n",
              "      <td>27</td>\n",
              "      <td>7</td>\n",
              "      <td>0.0</td>\n",
              "      <td>-0.155854</td>\n",
              "      <td>-2.320244</td>\n",
              "      <td>9.591341</td>\n",
              "      <td>-0.609512</td>\n",
              "      <td>-0.050976</td>\n",
              "      <td>0.214566</td>\n",
              "      <td>0.008127</td>\n",
              "      <td>-12.328341</td>\n",
              "    </tr>\n",
              "    <tr>\n",
              "      <th>3</th>\n",
              "      <td>10.25</td>\n",
              "      <td>-0.430122</td>\n",
              "      <td>-0.405366</td>\n",
              "      <td>1</td>\n",
              "      <td>27</td>\n",
              "      <td>8</td>\n",
              "      <td>0.0</td>\n",
              "      <td>0.034146</td>\n",
              "      <td>-1.960244</td>\n",
              "      <td>10.671341</td>\n",
              "      <td>0.940488</td>\n",
              "      <td>-0.040976</td>\n",
              "      <td>0.214130</td>\n",
              "      <td>0.007691</td>\n",
              "      <td>-5.528821</td>\n",
              "    </tr>\n",
              "    <tr>\n",
              "      <th>4</th>\n",
              "      <td>10.17</td>\n",
              "      <td>-0.390122</td>\n",
              "      <td>-0.485366</td>\n",
              "      <td>1</td>\n",
              "      <td>27</td>\n",
              "      <td>9</td>\n",
              "      <td>0.0</td>\n",
              "      <td>0.244146</td>\n",
              "      <td>-1.700244</td>\n",
              "      <td>0.111341</td>\n",
              "      <td>-1.089512</td>\n",
              "      <td>-0.040976</td>\n",
              "      <td>0.213691</td>\n",
              "      <td>0.007252</td>\n",
              "      <td>-9.550351</td>\n",
              "    </tr>\n",
              "  </tbody>\n",
              "</table>\n",
              "</div>\n",
              "      <button class=\"colab-df-convert\" onclick=\"convertToInteractive('df-9238e037-c460-41ee-9033-2f1a7f2d627f')\"\n",
              "              title=\"Convert this dataframe to an interactive table.\"\n",
              "              style=\"display:none;\">\n",
              "        \n",
              "  <svg xmlns=\"http://www.w3.org/2000/svg\" height=\"24px\"viewBox=\"0 0 24 24\"\n",
              "       width=\"24px\">\n",
              "    <path d=\"M0 0h24v24H0V0z\" fill=\"none\"/>\n",
              "    <path d=\"M18.56 5.44l.94 2.06.94-2.06 2.06-.94-2.06-.94-.94-2.06-.94 2.06-2.06.94zm-11 1L8.5 8.5l.94-2.06 2.06-.94-2.06-.94L8.5 2.5l-.94 2.06-2.06.94zm10 10l.94 2.06.94-2.06 2.06-.94-2.06-.94-.94-2.06-.94 2.06-2.06.94z\"/><path d=\"M17.41 7.96l-1.37-1.37c-.4-.4-.92-.59-1.43-.59-.52 0-1.04.2-1.43.59L10.3 9.45l-7.72 7.72c-.78.78-.78 2.05 0 2.83L4 21.41c.39.39.9.59 1.41.59.51 0 1.02-.2 1.41-.59l7.78-7.78 2.81-2.81c.8-.78.8-2.07 0-2.86zM5.41 20L4 18.59l7.72-7.72 1.47 1.35L5.41 20z\"/>\n",
              "  </svg>\n",
              "      </button>\n",
              "      \n",
              "  <style>\n",
              "    .colab-df-container {\n",
              "      display:flex;\n",
              "      flex-wrap:wrap;\n",
              "      gap: 12px;\n",
              "    }\n",
              "\n",
              "    .colab-df-convert {\n",
              "      background-color: #E8F0FE;\n",
              "      border: none;\n",
              "      border-radius: 50%;\n",
              "      cursor: pointer;\n",
              "      display: none;\n",
              "      fill: #1967D2;\n",
              "      height: 32px;\n",
              "      padding: 0 0 0 0;\n",
              "      width: 32px;\n",
              "    }\n",
              "\n",
              "    .colab-df-convert:hover {\n",
              "      background-color: #E2EBFA;\n",
              "      box-shadow: 0px 1px 2px rgba(60, 64, 67, 0.3), 0px 1px 3px 1px rgba(60, 64, 67, 0.15);\n",
              "      fill: #174EA6;\n",
              "    }\n",
              "\n",
              "    [theme=dark] .colab-df-convert {\n",
              "      background-color: #3B4455;\n",
              "      fill: #D2E3FC;\n",
              "    }\n",
              "\n",
              "    [theme=dark] .colab-df-convert:hover {\n",
              "      background-color: #434B5C;\n",
              "      box-shadow: 0px 1px 3px 1px rgba(0, 0, 0, 0.15);\n",
              "      filter: drop-shadow(0px 1px 2px rgba(0, 0, 0, 0.3));\n",
              "      fill: #FFFFFF;\n",
              "    }\n",
              "  </style>\n",
              "\n",
              "      <script>\n",
              "        const buttonEl =\n",
              "          document.querySelector('#df-9238e037-c460-41ee-9033-2f1a7f2d627f button.colab-df-convert');\n",
              "        buttonEl.style.display =\n",
              "          google.colab.kernel.accessAllowed ? 'block' : 'none';\n",
              "\n",
              "        async function convertToInteractive(key) {\n",
              "          const element = document.querySelector('#df-9238e037-c460-41ee-9033-2f1a7f2d627f');\n",
              "          const dataTable =\n",
              "            await google.colab.kernel.invokeFunction('convertToInteractive',\n",
              "                                                     [key], {});\n",
              "          if (!dataTable) return;\n",
              "\n",
              "          const docLinkHtml = 'Like what you see? Visit the ' +\n",
              "            '<a target=\"_blank\" href=https://colab.research.google.com/notebooks/data_table.ipynb>data table notebook</a>'\n",
              "            + ' to learn more about interactive tables.';\n",
              "          element.innerHTML = '';\n",
              "          dataTable['output_type'] = 'display_data';\n",
              "          await google.colab.output.renderOutput(dataTable, element);\n",
              "          const docLink = document.createElement('div');\n",
              "          docLink.innerHTML = docLinkHtml;\n",
              "          element.appendChild(docLink);\n",
              "        }\n",
              "      </script>\n",
              "    </div>\n",
              "  </div>\n",
              "  "
            ]
          },
          "metadata": {},
          "execution_count": 7
        }
      ]
    },
    {
      "cell_type": "code",
      "source": [
        "## Splitting the variables into dependent and independent variables\n",
        "## X is the independent variable and Y is the dependent variable\n",
        "X = obj_df.iloc[:, :-1]  ## Dataframe of independent variables\n",
        "y = obj_df.iloc[:, -1]  ## Dataframe of dependent variables\n",
        "\n",
        "## Transforming the y variable\n",
        "y = np.expm1((y + abs(y.min())) / 200)\n",
        "y_trans = np.log1p(y)\n",
        "\n",
        "# X_arr = ((np.asarray(X)).reshape(6,5))\n",
        "# y_arr = ((np.asarray(y)).reshape(6,5))\n",
        "\n",
        "# print(X_arr)\n",
        "# print(y_arr)"
      ],
      "metadata": {
        "id": "r5SqknnqAmUK"
      },
      "execution_count": 8,
      "outputs": []
    },
    {
      "cell_type": "markdown",
      "source": [
        "### Creating the correlation heatmap in the dataframe"
      ],
      "metadata": {
        "id": "Ua7ntKYY6wmf"
      }
    },
    {
      "cell_type": "code",
      "source": [
        "## Creating a data correlation heatmap using seaborn \n",
        "# Define the plot\n",
        "fig, ax = plt.subplots(figsize=(13,7))\n",
        "title = \"Regression Analysis Heat Map\"\n",
        "\n",
        "\n",
        "plt.title(title,fontsize=18)\n",
        "ttl = ax.title\n",
        "ttl.set_position([0.5,1.05])\n",
        "\n",
        "corr = obj_df.corr()\n",
        "sns.heatmap(corr,annot=True,fmt=\"0.2f\",cmap='RdYlGn',linewidths=0.30,ax=ax)\n",
        "plt.show()"
      ],
      "metadata": {
        "colab": {
          "base_uri": "https://localhost:8080/",
          "height": 467
        },
        "id": "fOrwtjdcxi2f",
        "outputId": "78ed82a5-9ff4-4480-8071-61e91cc95b11"
      },
      "execution_count": 9,
      "outputs": [
        {
          "output_type": "display_data",
          "data": {
            "text/plain": [
              "<Figure size 936x504 with 2 Axes>"
            ],
            "image/png": "[encoded data removed]"
          },
          "metadata": {
            "needs_background": "light"
          }
        }
      ]
    },
    {
      "cell_type": "markdown",
      "source": [
        "From the above correlation heatmap, we can observe some strong correlations between X3 and X14; X12 and X14; X3 and Y"
      ],
      "metadata": {
        "id": "aW8_YzBD7S4z"
      }
    },
    {
      "cell_type": "code",
      "source": [
        "## Creating a histogram before and after transformation for the target distribution y\n",
        "f, (ax0, ax1) = plt.subplots(1, 2)\n",
        "ax0.hist(y, bins=100, density=True)\n",
        "ax0.set_xlim([0, 1])\n",
        "ax0.set_ylabel(\"Probability\")\n",
        "ax0.set_xlabel(\"Target\")\n",
        "ax0.set_title(\"Target distribution\")\n",
        "\n",
        "ax1.hist(y_trans, bins=100, density=True)\n",
        "ax1.set_ylabel(\"Probability\")\n",
        "ax1.set_xlabel(\"Target\")\n",
        "ax1.set_title(\"Transformed target distribution\")\n",
        "\n",
        "f.suptitle(\"Synthetic data\", y=1.05)\n",
        "plt.tight_layout()"
      ],
      "metadata": {
        "colab": {
          "base_uri": "https://localhost:8080/",
          "height": 323
        },
        "id": "zWkfSd-n73kc",
        "outputId": "85a2f465-b441-40b5-c5aa-881af1943a2b"
      },
      "execution_count": 10,
      "outputs": [
        {
          "output_type": "display_data",
          "data": {
            "text/plain": [
              "<Figure size 432x288 with 2 Axes>"
            ],
            "image/png": "[encoded data removed]"
          },
          "metadata": {
            "needs_background": "light"
          }
        }
      ]
    },
    {
      "cell_type": "markdown",
      "source": [
        "### Splitting of the Dataset"
      ],
      "metadata": {
        "id": "ot-0kUBWu1OG"
      }
    },
    {
      "cell_type": "code",
      "source": [
        "from sklearn.model_selection import train_test_split\n",
        "from sklearn.compose import TransformedTargetRegressor\n",
        "from sklearn.preprocessing import QuantileTransformer\n",
        "from sklearn.linear_model import RidgeCV\n",
        "from sklearn.metrics import r2_score\n",
        "\n",
        "X_train, X_test, y_train, y_test = train_test_split(X, y, test_size=0.25, random_state=42)\n",
        "rcv = RidgeCV()\n",
        "rcv.fit(X_train, y_train)\n",
        "y_pred = rcv.predict(X_test)\n",
        "print(r2_score(y_test, y_pred))\n",
        "\n",
        "ridge_cv_with_trans_target = TransformedTargetRegressor(\n",
        "    regressor=RidgeCV(), func=np.log1p, inverse_func=np.expm1\n",
        ").fit(X_train, y_train)\n",
        "y_pred_ridge_with_trans_target = ridge_cv_with_trans_target.predict(X_test)\n",
        "\n",
        "print(r2_score(y_test, y_pred_ridge_with_trans_target))"
      ],
      "metadata": {
        "colab": {
          "base_uri": "https://localhost:8080/"
        },
        "id": "tqESFhWPtyuL",
        "outputId": "7856d8b1-45c6-4096-c253-c20f3de852b8"
      },
      "execution_count": 11,
      "outputs": [
        {
          "output_type": "stream",
          "name": "stdout",
          "text": [
            "0.20095352404880473\n",
            "0.20141292748901185\n"
          ]
        }
      ]
    },
    {
      "cell_type": "code",
      "source": [
        "# Need to improve the accuracy\n"
      ],
      "metadata": {
        "id": "bnJEAJozCiLt"
      },
      "execution_count": 12,
      "outputs": []
    },
    {
      "cell_type": "markdown",
      "source": [
        "# **Accuracy Improvement**"
      ],
      "metadata": {
        "id": "EDJg_4rM88Xl"
      }
    },
    {
      "cell_type": "markdown",
      "source": [
        "# Tests"
      ],
      "metadata": {
        "id": "sECM185eSTbI"
      }
    },
    {
      "cell_type": "code",
      "source": [
        "!pip install pandas-profiling[notebook, html]\n",
        "!pip install autokeras\n",
        "!pip install https://github.com/pandas-profiling/pandas-profiling/archive/master.zip"
      ],
      "metadata": {
        "id": "QI0rw21cSUWg",
        "colab": {
          "base_uri": "https://localhost:8080/",
          "height": 1000
        },
        "outputId": "baebb0c0-e88d-42e3-8eed-a5b556c531a7"
      },
      "execution_count": 13,
      "outputs": [
        {
          "output_type": "stream",
          "name": "stdout",
          "text": [
            "\u001b[31mERROR: Invalid requirement: 'pandas-profiling[notebook,'\u001b[0m\u001b[31m\n",
            "\u001b[0mLooking in indexes: https://pypi.org/simple, https://us-python.pkg.dev/colab-wheels/public/simple/\n",
            "Collecting autokeras\n",
            "  Downloading autokeras-1.1.0-py3-none-any.whl (148 kB)\n",
            "\u001b[2K     \u001b[90m━━━━━━━━━━━━━━━━━━━━━━━━━━━━━━━━━━━━━━\u001b[0m \u001b[32m148.6/148.6 KB\u001b[0m \u001b[31m12.5 MB/s\u001b[0m eta \u001b[36m0:00:00\u001b[0m\n",
            "\u001b[?25hRequirement already satisfied: tensorflow>=2.8.0 in /usr/local/lib/python3.8/dist-packages (from autokeras) (2.11.0)\n",
            "Requirement already satisfied: packaging in /usr/local/lib/python3.8/dist-packages (from autokeras) (23.0)\n",
            "Collecting keras-nlp>=0.4.0\n",
            "  Downloading keras_nlp-0.4.0-py3-none-any.whl (337 kB)\n",
            "\u001b[2K     \u001b[90m━━━━━━━━━━━━━━━━━━━━━━━━━━━━━━━━━━━━━━\u001b[0m \u001b[32m337.5/337.5 KB\u001b[0m \u001b[31m36.7 MB/s\u001b[0m eta \u001b[36m0:00:00\u001b[0m\n",
            "\u001b[?25hCollecting keras-tuner>=1.1.0\n",
            "  Downloading keras_tuner-1.2.1-py3-none-any.whl (169 kB)\n",
            "\u001b[2K     \u001b[90m━━━━━━━━━━━━━━━━━━━━━━━━━━━━━━━━━━━━━━\u001b[0m \u001b[32m169.6/169.6 KB\u001b[0m \u001b[31m22.6 MB/s\u001b[0m eta \u001b[36m0:00:00\u001b[0m\n",
            "\u001b[?25hRequirement already satisfied: pandas in /usr/local/lib/python3.8/dist-packages (from autokeras) (1.3.5)\n",
            "Collecting tensorflow-text\n",
            "  Downloading tensorflow_text-2.11.0-cp38-cp38-manylinux_2_17_x86_64.manylinux2014_x86_64.whl (5.8 MB)\n",
            "\u001b[2K     \u001b[90m━━━━━━━━━━━━━━━━━━━━━━━━━━━━━━━━━━━━━━━━\u001b[0m \u001b[32m5.8/5.8 MB\u001b[0m \u001b[31m119.2 MB/s\u001b[0m eta \u001b[36m0:00:00\u001b[0m\n",
            "\u001b[?25hRequirement already satisfied: numpy in /usr/local/lib/python3.8/dist-packages (from keras-nlp>=0.4.0->autokeras) (1.21.6)\n",
            "Requirement already satisfied: absl-py in /usr/local/lib/python3.8/dist-packages (from keras-nlp>=0.4.0->autokeras) (1.4.0)\n",
            "Requirement already satisfied: ipython in /usr/local/lib/python3.8/dist-packages (from keras-tuner>=1.1.0->autokeras) (7.9.0)\n",
            "Requirement already satisfied: requests in /usr/local/lib/python3.8/dist-packages (from keras-tuner>=1.1.0->autokeras) (2.25.1)\n",
            "Collecting kt-legacy\n",
            "  Downloading kt_legacy-1.0.4-py3-none-any.whl (9.6 kB)\n",
            "Requirement already satisfied: termcolor>=1.1.0 in /usr/local/lib/python3.8/dist-packages (from tensorflow>=2.8.0->autokeras) (2.2.0)\n",
            "Requirement already satisfied: flatbuffers>=2.0 in /usr/local/lib/python3.8/dist-packages (from tensorflow>=2.8.0->autokeras) (23.1.21)\n",
            "Requirement already satisfied: astunparse>=1.6.0 in /usr/local/lib/python3.8/dist-packages (from tensorflow>=2.8.0->autokeras) (1.6.3)\n",
            "Requirement already satisfied: opt-einsum>=2.3.2 in /usr/local/lib/python3.8/dist-packages (from tensorflow>=2.8.0->autokeras) (3.3.0)\n",
            "Requirement already satisfied: h5py>=2.9.0 in /usr/local/lib/python3.8/dist-packages (from tensorflow>=2.8.0->autokeras) (3.1.0)\n",
            "Requirement already satisfied: grpcio<2.0,>=1.24.3 in /usr/local/lib/python3.8/dist-packages (from tensorflow>=2.8.0->autokeras) (1.51.1)\n",
            "Requirement already satisfied: typing-extensions>=3.6.6 in /usr/local/lib/python3.8/dist-packages (from tensorflow>=2.8.0->autokeras) (4.5.0)\n",
            "Requirement already satisfied: six>=1.12.0 in /usr/local/lib/python3.8/dist-packages (from tensorflow>=2.8.0->autokeras) (1.15.0)\n",
            "Requirement already satisfied: wrapt>=1.11.0 in /usr/local/lib/python3.8/dist-packages (from tensorflow>=2.8.0->autokeras) (1.14.1)\n",
            "Requirement already satisfied: libclang>=13.0.0 in /usr/local/lib/python3.8/dist-packages (from tensorflow>=2.8.0->autokeras) (15.0.6.1)\n",
            "Requirement already satisfied: protobuf<3.20,>=3.9.2 in /usr/local/lib/python3.8/dist-packages (from tensorflow>=2.8.0->autokeras) (3.19.6)\n",
            "Requirement already satisfied: keras<2.12,>=2.11.0 in /usr/local/lib/python3.8/dist-packages (from tensorflow>=2.8.0->autokeras) (2.11.0)\n",
            "Requirement already satisfied: google-pasta>=0.1.1 in /usr/local/lib/python3.8/dist-packages (from tensorflow>=2.8.0->autokeras) (0.2.0)\n",
            "Requirement already satisfied: tensorflow-estimator<2.12,>=2.11.0 in /usr/local/lib/python3.8/dist-packages (from tensorflow>=2.8.0->autokeras) (2.11.0)\n",
            "Requirement already satisfied: tensorflow-io-gcs-filesystem>=0.23.1 in /usr/local/lib/python3.8/dist-packages (from tensorflow>=2.8.0->autokeras) (0.30.0)\n",
            "Requirement already satisfied: setuptools in /usr/local/lib/python3.8/dist-packages (from tensorflow>=2.8.0->autokeras) (57.4.0)\n",
            "Requirement already satisfied: gast<=0.4.0,>=0.2.1 in /usr/local/lib/python3.8/dist-packages (from tensorflow>=2.8.0->autokeras) (0.4.0)\n",
            "Requirement already satisfied: tensorboard<2.12,>=2.11 in /usr/local/lib/python3.8/dist-packages (from tensorflow>=2.8.0->autokeras) (2.11.2)\n",
            "Requirement already satisfied: python-dateutil>=2.7.3 in /usr/local/lib/python3.8/dist-packages (from pandas->autokeras) (2.8.2)\n",
            "Requirement already satisfied: pytz>=2017.3 in /usr/local/lib/python3.8/dist-packages (from pandas->autokeras) (2022.7.1)\n",
            "Requirement already satisfied: wheel<1.0,>=0.23.0 in /usr/local/lib/python3.8/dist-packages (from astunparse>=1.6.0->tensorflow>=2.8.0->autokeras) (0.38.4)\n",
            "Requirement already satisfied: google-auth-oauthlib<0.5,>=0.4.1 in /usr/local/lib/python3.8/dist-packages (from tensorboard<2.12,>=2.11->tensorflow>=2.8.0->autokeras) (0.4.6)\n",
            "Requirement already satisfied: markdown>=2.6.8 in /usr/local/lib/python3.8/dist-packages (from tensorboard<2.12,>=2.11->tensorflow>=2.8.0->autokeras) (3.4.1)\n",
            "Requirement already satisfied: tensorboard-data-server<0.7.0,>=0.6.0 in /usr/local/lib/python3.8/dist-packages (from tensorboard<2.12,>=2.11->tensorflow>=2.8.0->autokeras) (0.6.1)\n",
            "Requirement already satisfied: google-auth<3,>=1.6.3 in /usr/local/lib/python3.8/dist-packages (from tensorboard<2.12,>=2.11->tensorflow>=2.8.0->autokeras) (2.16.0)\n",
            "Requirement already satisfied: tensorboard-plugin-wit>=1.6.0 in /usr/local/lib/python3.8/dist-packages (from tensorboard<2.12,>=2.11->tensorflow>=2.8.0->autokeras) (1.8.1)\n",
            "Requirement already satisfied: werkzeug>=1.0.1 in /usr/local/lib/python3.8/dist-packages (from tensorboard<2.12,>=2.11->tensorflow>=2.8.0->autokeras) (1.0.1)\n",
            "Requirement already satisfied: chardet<5,>=3.0.2 in /usr/local/lib/python3.8/dist-packages (from requests->keras-tuner>=1.1.0->autokeras) (4.0.0)\n",
            "Requirement already satisfied: urllib3<1.27,>=1.21.1 in /usr/local/lib/python3.8/dist-packages (from requests->keras-tuner>=1.1.0->autokeras) (1.24.3)\n",
            "Requirement already satisfied: idna<3,>=2.5 in /usr/local/lib/python3.8/dist-packages (from requests->keras-tuner>=1.1.0->autokeras) (2.10)\n",
            "Requirement already satisfied: certifi>=2017.4.17 in /usr/local/lib/python3.8/dist-packages (from requests->keras-tuner>=1.1.0->autokeras) (2022.12.7)\n",
            "Collecting jedi>=0.10\n",
            "  Downloading jedi-0.18.2-py2.py3-none-any.whl (1.6 MB)\n",
            "\u001b[2K     \u001b[90m━━━━━━━━━━━━━━━━━━━━━━━━━━━━━━━━━━━━━━━━\u001b[0m \u001b[32m1.6/1.6 MB\u001b[0m \u001b[31m74.7 MB/s\u001b[0m eta \u001b[36m0:00:00\u001b[0m\n",
            "\u001b[?25hRequirement already satisfied: pexpect in /usr/local/lib/python3.8/dist-packages (from ipython->keras-tuner>=1.1.0->autokeras) (4.8.0)\n",
            "Requirement already satisfied: pygments in /usr/local/lib/python3.8/dist-packages (from ipython->keras-tuner>=1.1.0->autokeras) (2.6.1)\n",
            "Requirement already satisfied: backcall in /usr/local/lib/python3.8/dist-packages (from ipython->keras-tuner>=1.1.0->autokeras) (0.2.0)\n",
            "Requirement already satisfied: pickleshare in /usr/local/lib/python3.8/dist-packages (from ipython->keras-tuner>=1.1.0->autokeras) (0.7.5)\n",
            "Requirement already satisfied: traitlets>=4.2 in /usr/local/lib/python3.8/dist-packages (from ipython->keras-tuner>=1.1.0->autokeras) (5.7.1)\n",
            "Requirement already satisfied: prompt-toolkit<2.1.0,>=2.0.0 in /usr/local/lib/python3.8/dist-packages (from ipython->keras-tuner>=1.1.0->autokeras) (2.0.10)\n",
            "Requirement already satisfied: decorator in /usr/local/lib/python3.8/dist-packages (from ipython->keras-tuner>=1.1.0->autokeras) (4.4.2)\n",
            "Requirement already satisfied: tensorflow-hub>=0.8.0 in /usr/local/lib/python3.8/dist-packages (from tensorflow-text->keras-nlp>=0.4.0->autokeras) (0.12.0)\n",
            "Requirement already satisfied: rsa<5,>=3.1.4 in /usr/local/lib/python3.8/dist-packages (from google-auth<3,>=1.6.3->tensorboard<2.12,>=2.11->tensorflow>=2.8.0->autokeras) (4.9)\n",
            "Requirement already satisfied: cachetools<6.0,>=2.0.0 in /usr/local/lib/python3.8/dist-packages (from google-auth<3,>=1.6.3->tensorboard<2.12,>=2.11->tensorflow>=2.8.0->autokeras) (5.3.0)\n",
            "Requirement already satisfied: pyasn1-modules>=0.2.1 in /usr/local/lib/python3.8/dist-packages (from google-auth<3,>=1.6.3->tensorboard<2.12,>=2.11->tensorflow>=2.8.0->autokeras) (0.2.8)\n",
            "Requirement already satisfied: requests-oauthlib>=0.7.0 in /usr/local/lib/python3.8/dist-packages (from google-auth-oauthlib<0.5,>=0.4.1->tensorboard<2.12,>=2.11->tensorflow>=2.8.0->autokeras) (1.3.1)\n",
            "Requirement already satisfied: parso<0.9.0,>=0.8.0 in /usr/local/lib/python3.8/dist-packages (from jedi>=0.10->ipython->keras-tuner>=1.1.0->autokeras) (0.8.3)\n",
            "Requirement already satisfied: importlib-metadata>=4.4 in /usr/local/lib/python3.8/dist-packages (from markdown>=2.6.8->tensorboard<2.12,>=2.11->tensorflow>=2.8.0->autokeras) (6.0.0)\n",
            "Requirement already satisfied: wcwidth in /usr/local/lib/python3.8/dist-packages (from prompt-toolkit<2.1.0,>=2.0.0->ipython->keras-tuner>=1.1.0->autokeras) (0.2.6)\n",
            "Requirement already satisfied: ptyprocess>=0.5 in /usr/local/lib/python3.8/dist-packages (from pexpect->ipython->keras-tuner>=1.1.0->autokeras) (0.7.0)\n",
            "Requirement already satisfied: zipp>=0.5 in /usr/local/lib/python3.8/dist-packages (from importlib-metadata>=4.4->markdown>=2.6.8->tensorboard<2.12,>=2.11->tensorflow>=2.8.0->autokeras) (3.13.0)\n",
            "Requirement already satisfied: pyasn1<0.5.0,>=0.4.6 in /usr/local/lib/python3.8/dist-packages (from pyasn1-modules>=0.2.1->google-auth<3,>=1.6.3->tensorboard<2.12,>=2.11->tensorflow>=2.8.0->autokeras) (0.4.8)\n",
            "Requirement already satisfied: oauthlib>=3.0.0 in /usr/local/lib/python3.8/dist-packages (from requests-oauthlib>=0.7.0->google-auth-oauthlib<0.5,>=0.4.1->tensorboard<2.12,>=2.11->tensorflow>=2.8.0->autokeras) (3.2.2)\n",
            "Installing collected packages: kt-legacy, jedi, tensorflow-text, keras-tuner, keras-nlp, autokeras\n",
            "Successfully installed autokeras-1.1.0 jedi-0.18.2 keras-nlp-0.4.0 keras-tuner-1.2.1 kt-legacy-1.0.4 tensorflow-text-2.11.0\n",
            "Looking in indexes: https://pypi.org/simple, https://us-python.pkg.dev/colab-wheels/public/simple/\n",
            "Collecting https://github.com/pandas-profiling/pandas-profiling/archive/master.zip\n",
            "  Downloading https://github.com/pandas-profiling/pandas-profiling/archive/master.zip\n",
            "\u001b[2K     \u001b[32m|\u001b[0m \u001b[32m22.1 MB\u001b[0m \u001b[31m21.7 MB/s\u001b[0m \u001b[33m0:00:01\u001b[0m\n",
            "\u001b[?25h  Preparing metadata (setup.py) ... \u001b[?25l\u001b[?25hdone\n",
            "Requirement already satisfied: scipy<1.10,>=1.4.1 in /usr/local/lib/python3.8/dist-packages (from ydata-profiling==0.0.dev0) (1.7.3)\n",
            "Requirement already satisfied: pandas!=1.4.0,<1.6,>1.1 in /usr/local/lib/python3.8/dist-packages (from ydata-profiling==0.0.dev0) (1.3.5)\n",
            "Requirement already satisfied: matplotlib<3.7,>=3.2 in /usr/local/lib/python3.8/dist-packages (from ydata-profiling==0.0.dev0) (3.2.2)\n",
            "Requirement already satisfied: pydantic<1.11,>=1.8.1 in /usr/local/lib/python3.8/dist-packages (from ydata-profiling==0.0.dev0) (1.10.4)\n",
            "Requirement already satisfied: PyYAML<6.1,>=5.0.0 in /usr/local/lib/python3.8/dist-packages (from ydata-profiling==0.0.dev0) (6.0)\n",
            "Requirement already satisfied: jinja2<3.2,>=2.11.1 in /usr/local/lib/python3.8/dist-packages (from ydata-profiling==0.0.dev0) (2.11.3)\n",
            "Collecting visions[type_image_path]==0.7.5\n",
            "  Downloading visions-0.7.5-py3-none-any.whl (102 kB)\n",
            "\u001b[2K     \u001b[90m━━━━━━━━━━━━━━━━━━━━━━━━━━━━━━━━━━━━━━\u001b[0m \u001b[32m102.7/102.7 KB\u001b[0m \u001b[31m10.6 MB/s\u001b[0m eta \u001b[36m0:00:00\u001b[0m\n",
            "\u001b[?25hRequirement already satisfied: numpy<1.24,>=1.16.0 in /usr/local/lib/python3.8/dist-packages (from ydata-profiling==0.0.dev0) (1.21.6)\n",
            "Collecting htmlmin==0.1.12\n",
            "  Downloading htmlmin-0.1.12.tar.gz (19 kB)\n",
            "  Preparing metadata (setup.py) ... \u001b[?25l\u001b[?25hdone\n",
            "Collecting phik<0.13,>=0.11.1\n",
            "  Downloading phik-0.12.3-cp38-cp38-manylinux_2_17_x86_64.manylinux2014_x86_64.whl (679 kB)\n",
            "\u001b[2K     \u001b[90m━━━━━━━━━━━━━━━━━━━━━━━━━━━━━━━━━━━━━━\u001b[0m \u001b[32m679.5/679.5 KB\u001b[0m \u001b[31m57.6 MB/s\u001b[0m eta \u001b[36m0:00:00\u001b[0m\n",
            "\u001b[?25hRequirement already satisfied: requests<2.29,>=2.24.0 in /usr/local/lib/python3.8/dist-packages (from ydata-profiling==0.0.dev0) (2.25.1)\n",
            "Requirement already satisfied: tqdm<4.65,>=4.48.2 in /usr/local/lib/python3.8/dist-packages (from ydata-profiling==0.0.dev0) (4.64.1)\n",
            "Requirement already satisfied: seaborn<0.13,>=0.10.1 in /usr/local/lib/python3.8/dist-packages (from ydata-profiling==0.0.dev0) (0.11.2)\n",
            "Collecting multimethod<1.10,>=1.4\n",
            "  Downloading multimethod-1.9.1-py3-none-any.whl (10 kB)\n",
            "Collecting statsmodels<0.14,>=0.13.2\n",
            "  Downloading statsmodels-0.13.5-cp38-cp38-manylinux_2_17_x86_64.manylinux2014_x86_64.whl (9.9 MB)\n",
            "\u001b[2K     \u001b[90m━━━━━━━━━━━━━━━━━━━━━━━━━━━━━━━━━━━━━━━━\u001b[0m \u001b[32m9.9/9.9 MB\u001b[0m \u001b[31m117.6 MB/s\u001b[0m eta \u001b[36m0:00:00\u001b[0m\n",
            "\u001b[?25hCollecting typeguard<2.14,>=2.13.2\n",
            "  Downloading typeguard-2.13.3-py3-none-any.whl (17 kB)\n",
            "Requirement already satisfied: networkx>=2.4 in /usr/local/lib/python3.8/dist-packages (from visions[type_image_path]==0.7.5->ydata-profiling==0.0.dev0) (3.0)\n",
            "Requirement already satisfied: attrs>=19.3.0 in /usr/local/lib/python3.8/dist-packages (from visions[type_image_path]==0.7.5->ydata-profiling==0.0.dev0) (22.2.0)\n",
            "Collecting tangled-up-in-unicode>=0.0.4\n",
            "  Downloading tangled_up_in_unicode-0.2.0-py3-none-any.whl (4.7 MB)\n",
            "\u001b[2K     \u001b[90m━━━━━━━━━━━━━━━━━━━━━━━━━━━━━━━━━━━━━━━━\u001b[0m \u001b[32m4.7/4.7 MB\u001b[0m \u001b[31m76.7 MB/s\u001b[0m eta \u001b[36m0:00:00\u001b[0m\n",
            "\u001b[?25hRequirement already satisfied: Pillow in /usr/local/lib/python3.8/dist-packages (from visions[type_image_path]==0.7.5->ydata-profiling==0.0.dev0) (7.1.2)\n",
            "Collecting imagehash\n",
            "  Downloading ImageHash-4.3.1-py2.py3-none-any.whl (296 kB)\n",
            "\u001b[2K     \u001b[90m━━━━━━━━━━━━━━━━━━━━━━━━━━━━━━━━━━━━━━\u001b[0m \u001b[32m296.5/296.5 KB\u001b[0m \u001b[31m29.3 MB/s\u001b[0m eta \u001b[36m0:00:00\u001b[0m\n",
            "\u001b[?25hRequirement already satisfied: MarkupSafe>=0.23 in /usr/local/lib/python3.8/dist-packages (from jinja2<3.2,>=2.11.1->ydata-profiling==0.0.dev0) (2.0.1)\n",
            "Requirement already satisfied: python-dateutil>=2.1 in /usr/local/lib/python3.8/dist-packages (from matplotlib<3.7,>=3.2->ydata-profiling==0.0.dev0) (2.8.2)\n",
            "Requirement already satisfied: kiwisolver>=1.0.1 in /usr/local/lib/python3.8/dist-packages (from matplotlib<3.7,>=3.2->ydata-profiling==0.0.dev0) (1.4.4)\n",
            "Requirement already satisfied: pyparsing!=2.0.4,!=2.1.2,!=2.1.6,>=2.0.1 in /usr/local/lib/python3.8/dist-packages (from matplotlib<3.7,>=3.2->ydata-profiling==0.0.dev0) (3.0.9)\n",
            "Requirement already satisfied: cycler>=0.10 in /usr/local/lib/python3.8/dist-packages (from matplotlib<3.7,>=3.2->ydata-profiling==0.0.dev0) (0.11.0)\n",
            "Requirement already satisfied: pytz>=2017.3 in /usr/local/lib/python3.8/dist-packages (from pandas!=1.4.0,<1.6,>1.1->ydata-profiling==0.0.dev0) (2022.7.1)\n",
            "Requirement already satisfied: joblib>=0.14.1 in /usr/local/lib/python3.8/dist-packages (from phik<0.13,>=0.11.1->ydata-profiling==0.0.dev0) (1.2.0)\n",
            "Requirement already satisfied: typing-extensions>=4.2.0 in /usr/local/lib/python3.8/dist-packages (from pydantic<1.11,>=1.8.1->ydata-profiling==0.0.dev0) (4.5.0)\n",
            "Requirement already satisfied: certifi>=2017.4.17 in /usr/local/lib/python3.8/dist-packages (from requests<2.29,>=2.24.0->ydata-profiling==0.0.dev0) (2022.12.7)\n",
            "Requirement already satisfied: chardet<5,>=3.0.2 in /usr/local/lib/python3.8/dist-packages (from requests<2.29,>=2.24.0->ydata-profiling==0.0.dev0) (4.0.0)\n",
            "Requirement already satisfied: idna<3,>=2.5 in /usr/local/lib/python3.8/dist-packages (from requests<2.29,>=2.24.0->ydata-profiling==0.0.dev0) (2.10)\n",
            "Requirement already satisfied: urllib3<1.27,>=1.21.1 in /usr/local/lib/python3.8/dist-packages (from requests<2.29,>=2.24.0->ydata-profiling==0.0.dev0) (1.24.3)\n",
            "Requirement already satisfied: packaging>=21.3 in /usr/local/lib/python3.8/dist-packages (from statsmodels<0.14,>=0.13.2->ydata-profiling==0.0.dev0) (23.0)\n",
            "Requirement already satisfied: patsy>=0.5.2 in /usr/local/lib/python3.8/dist-packages (from statsmodels<0.14,>=0.13.2->ydata-profiling==0.0.dev0) (0.5.3)\n",
            "Requirement already satisfied: six in /usr/local/lib/python3.8/dist-packages (from patsy>=0.5.2->statsmodels<0.14,>=0.13.2->ydata-profiling==0.0.dev0) (1.15.0)\n",
            "Requirement already satisfied: PyWavelets in /usr/local/lib/python3.8/dist-packages (from imagehash->visions[type_image_path]==0.7.5->ydata-profiling==0.0.dev0) (1.4.1)\n",
            "Building wheels for collected packages: ydata-profiling, htmlmin\n",
            "  Building wheel for ydata-profiling (setup.py) ... \u001b[?25l\u001b[?25hdone\n",
            "  Created wheel for ydata-profiling: filename=ydata_profiling-0.0.dev0-py2.py3-none-any.whl size=344582 sha256=4a916310bb550784cc495b6448f8d3b324be14c7e718babe069f8d1ded9646e4\n",
            "  Stored in directory: /tmp/pip-ephem-wheel-cache-3cx5k5wf/wheels/64/b6/85/dfc808b23666a5910371784e349d28818006ff63ed9cfeca59\n",
            "  Building wheel for htmlmin (setup.py) ... \u001b[?25l\u001b[?25hdone\n",
            "  Created wheel for htmlmin: filename=htmlmin-0.1.12-py3-none-any.whl size=27098 sha256=c9d11456802610ef77ea3f4495b2a2ba2e4c698f8cf57ec5887cfcd0b81f4a93\n",
            "  Stored in directory: /root/.cache/pip/wheels/23/14/6e/4be5bfeeb027f4939a01764b48edd5996acf574b0913fe5243\n",
            "Successfully built ydata-profiling htmlmin\n",
            "Installing collected packages: htmlmin, typeguard, tangled-up-in-unicode, multimethod, imagehash, visions, statsmodels, phik, ydata-profiling\n",
            "  Attempting uninstall: typeguard\n",
            "    Found existing installation: typeguard 2.7.1\n",
            "    Uninstalling typeguard-2.7.1:\n",
            "      Successfully uninstalled typeguard-2.7.1\n",
            "  Attempting uninstall: statsmodels\n",
            "    Found existing installation: statsmodels 0.12.2\n",
            "    Uninstalling statsmodels-0.12.2:\n",
            "      Successfully uninstalled statsmodels-0.12.2\n",
            "Successfully installed htmlmin-0.1.12 imagehash-4.3.1 multimethod-1.9.1 phik-0.12.3 statsmodels-0.13.5 tangled-up-in-unicode-0.2.0 typeguard-2.13.3 visions-0.7.5 ydata-profiling-0.0.dev0\n"
          ]
        },
        {
          "output_type": "display_data",
          "data": {
            "application/vnd.colab-display-data+json": {
              "pip_warning": {
                "packages": [
                  "statsmodels"
                ]
              }
            }
          },
          "metadata": {}
        }
      ]
    },
    {
      "cell_type": "code",
      "source": [
        "!ls"
      ],
      "metadata": {
        "colab": {
          "base_uri": "https://localhost:8080/"
        },
        "id": "iRo30AH3UEt7",
        "outputId": "42498167-09a4-4631-e630-306c87630617"
      },
      "execution_count": 14,
      "outputs": [
        {
          "output_type": "stream",
          "name": "stdout",
          "text": [
            "drive  sample_data\n"
          ]
        }
      ]
    },
    {
      "cell_type": "code",
      "source": [
        "import pandas as pd\n",
        "from sklearn.preprocessing import MinMaxScaler\n",
        "from sklearn.model_selection import train_test_split\n",
        "from sklearn.compose import TransformedTargetRegressor\n",
        "from sklearn.preprocessing import QuantileTransformer\n",
        "from sklearn.linear_model import LogisticRegression\n",
        "from sklearn.linear_model import RidgeCV\n",
        "from sklearn.metrics import r2_score\n",
        "import numpy as np\n",
        "import autokeras as ak"
      ],
      "metadata": {
        "id": "dR9e8qR1T9K7"
      },
      "execution_count": 15,
      "outputs": []
    },
    {
      "cell_type": "code",
      "source": [
        "df = pd.read_csv(\"/content/drive/MyDrive/Module2_RegressionData.csv\")\n",
        "cleanup_nums = {\"X4\": {\"A\": 0, \"B\": 1, \"C\": 2, \"D\": 3,\n",
        "                                  \"E\": 4, \"F\": 5, \"G\":6, \"H\": 7, \"J\": 8, \"K\": 9, \"P\": 10,\"Q\": 11, \"R\": 12, \"S\":13 }}\n",
        "df = df.replace(cleanup_nums)"
      ],
      "metadata": {
        "id": "QiWF4MB0VSIS"
      },
      "execution_count": 16,
      "outputs": []
    },
    {
      "cell_type": "code",
      "source": [
        "df.describe()"
      ],
      "metadata": {
        "colab": {
          "base_uri": "https://localhost:8080/",
          "height": 433
        },
        "id": "54bXK3QeWgHx",
        "outputId": "f5d4904b-7333-4005-d8db-255be71cff70"
      },
      "execution_count": 17,
      "outputs": [
        {
          "output_type": "execute_result",
          "data": {
            "text/plain": [
              "                  X1            X2            X3             X4  \\\n",
              "count  577429.000000  5.774290e+05  5.774290e+05  577429.000000   \n",
              "mean       10.883171 -7.412166e-13  4.261996e-12       5.677614   \n",
              "std         1.324288  2.528702e-01  4.167188e-01       4.373891   \n",
              "min         7.180000 -6.560317e+00 -3.187170e+00       0.000000   \n",
              "25%         9.880000 -1.506154e-01 -2.565882e-01       1.000000   \n",
              "50%        10.690000  1.369863e-03 -1.466667e-02       5.000000   \n",
              "75%        11.460000  1.560000e-01  2.455263e-01      10.000000   \n",
              "max        23.090000  5.390678e+00  9.001081e+00      13.000000   \n",
              "\n",
              "                  X5             X6             X7            X8  \\\n",
              "count  577429.000000  577429.000000  577429.000000  5.774290e+05   \n",
              "mean       38.534145      43.428008       0.000004 -1.039090e-13   \n",
              "std        25.765187      24.224261       0.000313  6.139679e-01   \n",
              "min         1.000000       1.000000      -0.008543 -8.631695e+00   \n",
              "25%        17.000000      23.000000       0.000000 -3.716867e-01   \n",
              "50%        34.000000      43.000000       0.000000  1.415094e-02   \n",
              "75%        56.000000      64.000000       0.000000  3.793151e-01   \n",
              "max        97.000000      90.000000       0.013099  1.054103e+01   \n",
              "\n",
              "                 X9           X10           X11           X12            X13  \\\n",
              "count  5.774290e+05  5.774290e+05  5.774290e+05  5.774290e+05  577429.000000   \n",
              "mean  -2.407222e-12  5.853535e-12 -1.936169e-11 -2.634090e-12       0.200833   \n",
              "std    7.895312e-01  1.285517e+01  1.137305e+01  1.670116e-02       0.042103   \n",
              "min   -8.695714e+00 -8.784689e+01 -7.908513e+01 -2.565854e-01       0.000000   \n",
              "25%   -4.184746e-01 -8.046866e+00 -7.175844e+00 -9.687500e-03       0.199698   \n",
              "50%    5.389831e-02 -1.123382e+00 -1.068286e+00  2.933333e-03       0.209141   \n",
              "75%    4.915385e-01  6.175946e+00  5.400339e+00  1.136364e-02       0.216218   \n",
              "max    1.067456e+01  8.537612e+01  7.963889e+01  2.265116e-01       0.249235   \n",
              "\n",
              "                X14             Y  \n",
              "count  5.774290e+05  5.774290e+05  \n",
              "mean  -1.038725e-11  6.262242e-12  \n",
              "std    3.423344e-03  5.231521e+00  \n",
              "min   -3.630949e-02 -3.355447e+01  \n",
              "25%   -2.263795e-03 -3.199044e+00  \n",
              "50%   -9.480000e-05  6.667756e-02  \n",
              "75%    1.970060e-03  3.170693e+00  \n",
              "max    3.012240e-02  6.170659e+01  "
            ],
            "text/html": [
              "\n",
              "  <div id=\"df-35bf733e-2a30-40cb-a0f9-e9fb439fc3fe\">\n",
              "    <div class=\"colab-df-container\">\n",
              "      <div>\n",
              "<style scoped>\n",
              "    .dataframe tbody tr th:only-of-type {\n",
              "        vertical-align: middle;\n",
              "    }\n",
              "\n",
              "    .dataframe tbody tr th {\n",
              "        vertical-align: top;\n",
              "    }\n",
              "\n",
              "    .dataframe thead th {\n",
              "        text-align: right;\n",
              "    }\n",
              "</style>\n",
              "<table border=\"1\" class=\"dataframe\">\n",
              "  <thead>\n",
              "    <tr style=\"text-align: right;\">\n",
              "      <th></th>\n",
              "      <th>X1</th>\n",
              "      <th>X2</th>\n",
              "      <th>X3</th>\n",
              "      <th>X4</th>\n",
              "      <th>X5</th>\n",
              "      <th>X6</th>\n",
              "      <th>X7</th>\n",
              "      <th>X8</th>\n",
              "      <th>X9</th>\n",
              "      <th>X10</th>\n",
              "      <th>X11</th>\n",
              "      <th>X12</th>\n",
              "      <th>X13</th>\n",
              "      <th>X14</th>\n",
              "      <th>Y</th>\n",
              "    </tr>\n",
              "  </thead>\n",
              "  <tbody>\n",
              "    <tr>\n",
              "      <th>count</th>\n",
              "      <td>577429.000000</td>\n",
              "      <td>5.774290e+05</td>\n",
              "      <td>5.774290e+05</td>\n",
              "      <td>577429.000000</td>\n",
              "      <td>577429.000000</td>\n",
              "      <td>577429.000000</td>\n",
              "      <td>577429.000000</td>\n",
              "      <td>5.774290e+05</td>\n",
              "      <td>5.774290e+05</td>\n",
              "      <td>5.774290e+05</td>\n",
              "      <td>5.774290e+05</td>\n",
              "      <td>5.774290e+05</td>\n",
              "      <td>577429.000000</td>\n",
              "      <td>5.774290e+05</td>\n",
              "      <td>5.774290e+05</td>\n",
              "    </tr>\n",
              "    <tr>\n",
              "      <th>mean</th>\n",
              "      <td>10.883171</td>\n",
              "      <td>-7.412166e-13</td>\n",
              "      <td>4.261996e-12</td>\n",
              "      <td>5.677614</td>\n",
              "      <td>38.534145</td>\n",
              "      <td>43.428008</td>\n",
              "      <td>0.000004</td>\n",
              "      <td>-1.039090e-13</td>\n",
              "      <td>-2.407222e-12</td>\n",
              "      <td>5.853535e-12</td>\n",
              "      <td>-1.936169e-11</td>\n",
              "      <td>-2.634090e-12</td>\n",
              "      <td>0.200833</td>\n",
              "      <td>-1.038725e-11</td>\n",
              "      <td>6.262242e-12</td>\n",
              "    </tr>\n",
              "    <tr>\n",
              "      <th>std</th>\n",
              "      <td>1.324288</td>\n",
              "      <td>2.528702e-01</td>\n",
              "      <td>4.167188e-01</td>\n",
              "      <td>4.373891</td>\n",
              "      <td>25.765187</td>\n",
              "      <td>24.224261</td>\n",
              "      <td>0.000313</td>\n",
              "      <td>6.139679e-01</td>\n",
              "      <td>7.895312e-01</td>\n",
              "      <td>1.285517e+01</td>\n",
              "      <td>1.137305e+01</td>\n",
              "      <td>1.670116e-02</td>\n",
              "      <td>0.042103</td>\n",
              "      <td>3.423344e-03</td>\n",
              "      <td>5.231521e+00</td>\n",
              "    </tr>\n",
              "    <tr>\n",
              "      <th>min</th>\n",
              "      <td>7.180000</td>\n",
              "      <td>-6.560317e+00</td>\n",
              "      <td>-3.187170e+00</td>\n",
              "      <td>0.000000</td>\n",
              "      <td>1.000000</td>\n",
              "      <td>1.000000</td>\n",
              "      <td>-0.008543</td>\n",
              "      <td>-8.631695e+00</td>\n",
              "      <td>-8.695714e+00</td>\n",
              "      <td>-8.784689e+01</td>\n",
              "      <td>-7.908513e+01</td>\n",
              "      <td>-2.565854e-01</td>\n",
              "      <td>0.000000</td>\n",
              "      <td>-3.630949e-02</td>\n",
              "      <td>-3.355447e+01</td>\n",
              "    </tr>\n",
              "    <tr>\n",
              "      <th>25%</th>\n",
              "      <td>9.880000</td>\n",
              "      <td>-1.506154e-01</td>\n",
              "      <td>-2.565882e-01</td>\n",
              "      <td>1.000000</td>\n",
              "      <td>17.000000</td>\n",
              "      <td>23.000000</td>\n",
              "      <td>0.000000</td>\n",
              "      <td>-3.716867e-01</td>\n",
              "      <td>-4.184746e-01</td>\n",
              "      <td>-8.046866e+00</td>\n",
              "      <td>-7.175844e+00</td>\n",
              "      <td>-9.687500e-03</td>\n",
              "      <td>0.199698</td>\n",
              "      <td>-2.263795e-03</td>\n",
              "      <td>-3.199044e+00</td>\n",
              "    </tr>\n",
              "    <tr>\n",
              "      <th>50%</th>\n",
              "      <td>10.690000</td>\n",
              "      <td>1.369863e-03</td>\n",
              "      <td>-1.466667e-02</td>\n",
              "      <td>5.000000</td>\n",
              "      <td>34.000000</td>\n",
              "      <td>43.000000</td>\n",
              "      <td>0.000000</td>\n",
              "      <td>1.415094e-02</td>\n",
              "      <td>5.389831e-02</td>\n",
              "      <td>-1.123382e+00</td>\n",
              "      <td>-1.068286e+00</td>\n",
              "      <td>2.933333e-03</td>\n",
              "      <td>0.209141</td>\n",
              "      <td>-9.480000e-05</td>\n",
              "      <td>6.667756e-02</td>\n",
              "    </tr>\n",
              "    <tr>\n",
              "      <th>75%</th>\n",
              "      <td>11.460000</td>\n",
              "      <td>1.560000e-01</td>\n",
              "      <td>2.455263e-01</td>\n",
              "      <td>10.000000</td>\n",
              "      <td>56.000000</td>\n",
              "      <td>64.000000</td>\n",
              "      <td>0.000000</td>\n",
              "      <td>3.793151e-01</td>\n",
              "      <td>4.915385e-01</td>\n",
              "      <td>6.175946e+00</td>\n",
              "      <td>5.400339e+00</td>\n",
              "      <td>1.136364e-02</td>\n",
              "      <td>0.216218</td>\n",
              "      <td>1.970060e-03</td>\n",
              "      <td>3.170693e+00</td>\n",
              "    </tr>\n",
              "    <tr>\n",
              "      <th>max</th>\n",
              "      <td>23.090000</td>\n",
              "      <td>5.390678e+00</td>\n",
              "      <td>9.001081e+00</td>\n",
              "      <td>13.000000</td>\n",
              "      <td>97.000000</td>\n",
              "      <td>90.000000</td>\n",
              "      <td>0.013099</td>\n",
              "      <td>1.054103e+01</td>\n",
              "      <td>1.067456e+01</td>\n",
              "      <td>8.537612e+01</td>\n",
              "      <td>7.963889e+01</td>\n",
              "      <td>2.265116e-01</td>\n",
              "      <td>0.249235</td>\n",
              "      <td>3.012240e-02</td>\n",
              "      <td>6.170659e+01</td>\n",
              "    </tr>\n",
              "  </tbody>\n",
              "</table>\n",
              "</div>\n",
              "      <button class=\"colab-df-convert\" onclick=\"convertToInteractive('df-35bf733e-2a30-40cb-a0f9-e9fb439fc3fe')\"\n",
              "              title=\"Convert this dataframe to an interactive table.\"\n",
              "              style=\"display:none;\">\n",
              "        \n",
              "  <svg xmlns=\"http://www.w3.org/2000/svg\" height=\"24px\"viewBox=\"0 0 24 24\"\n",
              "       width=\"24px\">\n",
              "    <path d=\"M0 0h24v24H0V0z\" fill=\"none\"/>\n",
              "    <path d=\"M18.56 5.44l.94 2.06.94-2.06 2.06-.94-2.06-.94-.94-2.06-.94 2.06-2.06.94zm-11 1L8.5 8.5l.94-2.06 2.06-.94-2.06-.94L8.5 2.5l-.94 2.06-2.06.94zm10 10l.94 2.06.94-2.06 2.06-.94-2.06-.94-.94-2.06-.94 2.06-2.06.94z\"/><path d=\"M17.41 7.96l-1.37-1.37c-.4-.4-.92-.59-1.43-.59-.52 0-1.04.2-1.43.59L10.3 9.45l-7.72 7.72c-.78.78-.78 2.05 0 2.83L4 21.41c.39.39.9.59 1.41.59.51 0 1.02-.2 1.41-.59l7.78-7.78 2.81-2.81c.8-.78.8-2.07 0-2.86zM5.41 20L4 18.59l7.72-7.72 1.47 1.35L5.41 20z\"/>\n",
              "  </svg>\n",
              "      </button>\n",
              "      \n",
              "  <style>\n",
              "    .colab-df-container {\n",
              "      display:flex;\n",
              "      flex-wrap:wrap;\n",
              "      gap: 12px;\n",
              "    }\n",
              "\n",
              "    .colab-df-convert {\n",
              "      background-color: #E8F0FE;\n",
              "      border: none;\n",
              "      border-radius: 50%;\n",
              "      cursor: pointer;\n",
              "      display: none;\n",
              "      fill: #1967D2;\n",
              "      height: 32px;\n",
              "      padding: 0 0 0 0;\n",
              "      width: 32px;\n",
              "    }\n",
              "\n",
              "    .colab-df-convert:hover {\n",
              "      background-color: #E2EBFA;\n",
              "      box-shadow: 0px 1px 2px rgba(60, 64, 67, 0.3), 0px 1px 3px 1px rgba(60, 64, 67, 0.15);\n",
              "      fill: #174EA6;\n",
              "    }\n",
              "\n",
              "    [theme=dark] .colab-df-convert {\n",
              "      background-color: #3B4455;\n",
              "      fill: #D2E3FC;\n",
              "    }\n",
              "\n",
              "    [theme=dark] .colab-df-convert:hover {\n",
              "      background-color: #434B5C;\n",
              "      box-shadow: 0px 1px 3px 1px rgba(0, 0, 0, 0.15);\n",
              "      filter: drop-shadow(0px 1px 2px rgba(0, 0, 0, 0.3));\n",
              "      fill: #FFFFFF;\n",
              "    }\n",
              "  </style>\n",
              "\n",
              "      <script>\n",
              "        const buttonEl =\n",
              "          document.querySelector('#df-35bf733e-2a30-40cb-a0f9-e9fb439fc3fe button.colab-df-convert');\n",
              "        buttonEl.style.display =\n",
              "          google.colab.kernel.accessAllowed ? 'block' : 'none';\n",
              "\n",
              "        async function convertToInteractive(key) {\n",
              "          const element = document.querySelector('#df-35bf733e-2a30-40cb-a0f9-e9fb439fc3fe');\n",
              "          const dataTable =\n",
              "            await google.colab.kernel.invokeFunction('convertToInteractive',\n",
              "                                                     [key], {});\n",
              "          if (!dataTable) return;\n",
              "\n",
              "          const docLinkHtml = 'Like what you see? Visit the ' +\n",
              "            '<a target=\"_blank\" href=https://colab.research.google.com/notebooks/data_table.ipynb>data table notebook</a>'\n",
              "            + ' to learn more about interactive tables.';\n",
              "          element.innerHTML = '';\n",
              "          dataTable['output_type'] = 'display_data';\n",
              "          await google.colab.output.renderOutput(dataTable, element);\n",
              "          const docLink = document.createElement('div');\n",
              "          docLink.innerHTML = docLinkHtml;\n",
              "          element.appendChild(docLink);\n",
              "        }\n",
              "      </script>\n",
              "    </div>\n",
              "  </div>\n",
              "  "
            ]
          },
          "metadata": {},
          "execution_count": 17
        }
      ]
    },
    {
      "cell_type": "code",
      "source": [
        "scaler = MinMaxScaler()\n",
        "df[df.columns] = scaler.fit_transform(df[df.columns])"
      ],
      "metadata": {
        "id": "XWCfzFSjSZ4m"
      },
      "execution_count": 18,
      "outputs": []
    },
    {
      "cell_type": "code",
      "source": [
        "df.columns"
      ],
      "metadata": {
        "id": "khX5dE2JUM9L",
        "colab": {
          "base_uri": "https://localhost:8080/"
        },
        "outputId": "78267841-4823-4df9-fd45-f6a7eac99db9"
      },
      "execution_count": 19,
      "outputs": [
        {
          "output_type": "execute_result",
          "data": {
            "text/plain": [
              "Index(['X1', 'X2', 'X3', 'X4', 'X5', 'X6', 'X7', 'X8', 'X9', 'X10', 'X11',\n",
              "       'X12', 'X13', 'X14', 'Y'],\n",
              "      dtype='object')"
            ]
          },
          "metadata": {},
          "execution_count": 19
        }
      ]
    },
    {
      "cell_type": "code",
      "source": [
        "Y = df[\"Y\"]\n",
        "X = df.drop(['Y'], axis=1)\n",
        "\n",
        "X_train, X_test, y_train, y_test = train_test_split(X, Y, test_size=0.25)"
      ],
      "metadata": {
        "id": "7-9_5if7XFL2"
      },
      "execution_count": 20,
      "outputs": []
    },
    {
      "cell_type": "code",
      "source": [
        "clf = ak.StructuredDataRegressor(max_trials=5, loss = 'mean_absolute_error')\n",
        "history = clf.fit(X_train, y_train, epochs=10)\n",
        "r2_score(y_test, clf.predict(X_test))"
      ],
      "metadata": {
        "colab": {
          "base_uri": "https://localhost:8080/"
        },
        "id": "trppnF1ca9N6",
        "outputId": "415711f9-c89a-4de3-9e76-98c16ed67162"
      },
      "execution_count": null,
      "outputs": [
        {
          "output_type": "stream",
          "name": "stdout",
          "text": [
            "Trial 5 Complete [00h 12m 35s]\n",
            "val_loss: 0.03799569606781006\n",
            "\n",
            "Best val_loss So Far: 0.03580300509929657\n",
            "Total elapsed time: 01h 27m 34s\n",
            "Epoch 1/10\n",
            "13534/13534 [==============================] - 48s 3ms/step - loss: 0.0386 - mean_squared_error: 0.0027\n",
            "Epoch 2/10\n",
            "13534/13534 [==============================] - 46s 3ms/step - loss: 0.0363 - mean_squared_error: 0.0023\n",
            "Epoch 3/10\n",
            "13534/13534 [==============================] - 46s 3ms/step - loss: 0.0360 - mean_squared_error: 0.0022\n",
            "Epoch 4/10\n",
            "13534/13534 [==============================] - 45s 3ms/step - loss: 0.0359 - mean_squared_error: 0.0022\n",
            "Epoch 5/10\n",
            "13534/13534 [==============================] - 44s 3ms/step - loss: 0.0358 - mean_squared_error: 0.0022\n",
            "Epoch 6/10\n",
            "13534/13534 [==============================] - 47s 3ms/step - loss: 0.0357 - mean_squared_error: 0.0022\n",
            "Epoch 7/10\n",
            "13534/13534 [==============================] - 46s 3ms/step - loss: 0.0356 - mean_squared_error: 0.0022\n",
            "Epoch 8/10\n",
            "13534/13534 [==============================] - 45s 3ms/step - loss: 0.0355 - mean_squared_error: 0.0022\n",
            "Epoch 9/10\n",
            "13534/13534 [==============================] - 46s 3ms/step - loss: 0.0355 - mean_squared_error: 0.0022\n",
            "Epoch 10/10\n",
            "13534/13534 [==============================] - 45s 3ms/step - loss: 0.0355 - mean_squared_error: 0.0022\n"
          ]
        },
        {
          "output_type": "stream",
          "name": "stderr",
          "text": [
            "WARNING:absl:Found untraced functions such as _update_step_xla while saving (showing 1 of 1). These functions will not be directly callable after loading.\n"
          ]
        },
        {
          "output_type": "stream",
          "name": "stdout",
          "text": [
            "4512/4512 [==============================] - 10s 2ms/step\n",
            "4512/4512 [==============================] - 12s 3ms/step\n"
          ]
        },
        {
          "output_type": "execute_result",
          "data": {
            "text/plain": [
              "0.2637600745740113"
            ]
          },
          "metadata": {},
          "execution_count": 25
        }
      ]
    },
    {
      "cell_type": "code",
      "source": [],
      "metadata": {
        "id": "SUXlXS3vZ-B8"
      },
      "execution_count": null,
      "outputs": []
    }
  ]
}